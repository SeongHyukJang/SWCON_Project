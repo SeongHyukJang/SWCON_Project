{
 "cells": [
  {
   "cell_type": "code",
   "execution_count": 4,
   "metadata": {},
   "outputs": [],
   "source": [
    "import lauda"
   ]
  },
  {
   "cell_type": "code",
   "execution_count": 5,
   "metadata": {},
   "outputs": [
    {
     "name": "stdout",
     "output_type": "stream",
     "text": [
      "3.1415936535887745\n"
     ]
    }
   ],
   "source": [
    "import os\n",
    "\n",
    "\n",
    "with open(\"rounds.txt\") as file:\n",
    "    rounds = int(file.read())\n",
    "\n",
    "x = 1.0\n",
    "pi = 1.0\n",
    "\n",
    "for i in range(2, rounds + 2):\n",
    "    x *= -1\n",
    "    pi += x / (2 * i - 1)\n",
    "\n",
    "pi *= 4\n",
    "\n",
    "print(\"{:.16f}\".format(pi))"
   ]
  },
  {
   "cell_type": "code",
   "execution_count": 27,
   "metadata": {},
   "outputs": [
    {
     "name": "stdout",
     "output_type": "stream",
     "text": [
      "3.1415936535887745\n",
      "Time spent in range 0.35505175590515137\n"
     ]
    }
   ],
   "source": [
    "watch = lauda.StopWatch()\n",
    "\n",
    "\n",
    "with open(\"rounds.txt\") as file:\n",
    "    rounds = int(file.read())\n",
    "\n",
    "\n",
    "x = 1.0\n",
    "pi = 1.0\n",
    "\n",
    "watch.start()\n",
    "for i in range(2, rounds + 2):\n",
    "    x *= -1\n",
    "    pi += x / (2 * i - 1)\n",
    "\n",
    "pi *= 4\n",
    "watch.stop()\n",
    "print(\"{:.16f}\".format(pi))\n",
    "print ('Time spent in range {0}'.format(watch.elapsed_time))"
   ]
  },
  {
   "cell_type": "code",
   "execution_count": 7,
   "metadata": {},
   "outputs": [
    {
     "data": {
      "text/plain": [
       "['StopWatch',\n",
       " 'StopWatchException',\n",
       " '__all__',\n",
       " '__author__',\n",
       " '__builtins__',\n",
       " '__cached__',\n",
       " '__doc__',\n",
       " '__file__',\n",
       " '__license__',\n",
       " '__loader__',\n",
       " '__name__',\n",
       " '__package__',\n",
       " '__path__',\n",
       " '__spec__',\n",
       " '__version__',\n",
       " 'contextmanager',\n",
       " 'decorators',\n",
       " 'stopwatch',\n",
       " 'stopwatchcm']"
      ]
     },
     "execution_count": 7,
     "metadata": {},
     "output_type": "execute_result"
    }
   ],
   "source": [
    "dir(lauda)"
   ]
  }
 ],
 "metadata": {
  "kernelspec": {
   "display_name": "Python 3",
   "language": "python",
   "name": "python3"
  },
  "language_info": {
   "codemirror_mode": {
    "name": "ipython",
    "version": 3
   },
   "file_extension": ".py",
   "mimetype": "text/x-python",
   "name": "python",
   "nbconvert_exporter": "python",
   "pygments_lexer": "ipython3",
   "version": "3.7.4"
  }
 },
 "nbformat": 4,
 "nbformat_minor": 2
}
