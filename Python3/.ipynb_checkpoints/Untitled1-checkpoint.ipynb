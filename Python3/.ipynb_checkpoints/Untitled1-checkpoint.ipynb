{
 "cells": [
  {
   "cell_type": "code",
   "execution_count": 1,
   "metadata": {},
   "outputs": [],
   "source": [
    "import lauda\n",
    "import urllib\n",
    "import requests"
   ]
  },
  {
   "cell_type": "code",
   "execution_count": 9,
   "metadata": {},
   "outputs": [],
   "source": [
    "watch1 = lauda.StopWatch()\n",
    "watch2 = lauda.StopWatch()"
   ]
  },
  {
   "cell_type": "code",
   "execution_count": 47,
   "metadata": {},
   "outputs": [
    {
     "name": "stdout",
     "output_type": "stream",
     "text": [
      "94ms 경과\n"
     ]
    }
   ],
   "source": [
    "watch1.start()\n",
    "\n",
    "test1 = urllib.request.urlopen('https://www.khu.ac.kr')\n",
    "\n",
    "watch1.stop()\n",
    "\n",
    "print('{}ms 경과'.format(round(watch1.elapsed_time * 1000)))"
   ]
  },
  {
   "cell_type": "code",
   "execution_count": 43,
   "metadata": {},
   "outputs": [
    {
     "name": "stdout",
     "output_type": "stream",
     "text": [
      "60ms 경과\n"
     ]
    }
   ],
   "source": [
    "watch2.start()\n",
    "\n",
    "test2 = requests.get('https://www.khu.ac.kr')\n",
    "\n",
    "watch2.stop()\n",
    "\n",
    "print('{}ms 경과'.format(round(watch2.elapsed_time * 1000)))"
   ]
  }
 ],
 "metadata": {
  "kernelspec": {
   "display_name": "Python 3",
   "language": "python",
   "name": "python3"
  },
  "language_info": {
   "codemirror_mode": {
    "name": "ipython",
    "version": 3
   },
   "file_extension": ".py",
   "mimetype": "text/x-python",
   "name": "python",
   "nbconvert_exporter": "python",
   "pygments_lexer": "ipython3",
   "version": "3.7.4"
  }
 },
 "nbformat": 4,
 "nbformat_minor": 2
}
