{
 "cells": [
  {
   "cell_type": "code",
   "execution_count": 1,
   "metadata": {},
   "outputs": [],
   "source": [
    "import os\n",
    "import csv\n",
    "from matplotlib import pyplot as plt"
   ]
  },
  {
   "cell_type": "code",
   "execution_count": 11,
   "metadata": {},
   "outputs": [
    {
     "name": "stdout",
     "output_type": "stream",
     "text": [
      "/home/jsh/GitHub/SWCON_Project/2017110266/client/calc/GET\n"
     ]
    }
   ],
   "source": [
    "os.chdir('/home/jsh/GitHub/SWCON_Project/2017110266/client/calc/GET')\n",
    "print(os.getcwd())"
   ]
  },
  {
   "cell_type": "code",
   "execution_count": 15,
   "metadata": {},
   "outputs": [
    {
     "name": "stdout",
     "output_type": "stream",
     "text": [
      "['Language', 'best', 'worst', 'median']\n",
      "['Python 3', '109', '147', '111.0']\n",
      "['JS (node)', '352', '376', '357.5']\n",
      "['curl', '16', '37', '27.0']\n",
      "=================\n",
      "Languages :  ['Python 3', 'JS (node)', 'curl']\n",
      "best :  [109.0, 352.0, 16.0]\n",
      "worst :  [147.0, 376.0, 37.0]\n",
      "median :  [111.0, 357.5, 27.0]\n"
     ]
    }
   ],
   "source": [
    "languages = []\n",
    "best = []\n",
    "worst = []\n",
    "median = []\n",
    "datas = []\n",
    "\n",
    "with open('js_results.csv','r') as file:\n",
    "    results = csv.reader(file)\n",
    "\n",
    "    for data in results:\n",
    "        print(data)\n",
    "        datas.append(data)\n",
    "\n",
    "print(\"=================\")\n",
    "\n",
    "for data in datas:\n",
    "    languages.append(data[0])\n",
    "    best.append(data[1])\n",
    "    worst.append(data[2])\n",
    "    median.append(data[3])\n",
    "\n",
    "languages = languages[1:]\n",
    "best = list(map(float,best[1:]))\n",
    "worst = list(map(float,worst[1:]))\n",
    "median = list(map(float,median[1:]))\n",
    "print(\"Languages : \", languages)\n",
    "print(\"best : \", best)\n",
    "print(\"worst : \", worst)\n",
    "print(\"median : \",median )"
   ]
  },
  {
   "cell_type": "code",
   "execution_count": 16,
   "metadata": {},
   "outputs": [
    {
     "data": {
      "image/png": "[encoded data removed]",
      "text/plain": [
       "<Figure size 432x288 with 1 Axes>"
      ]
     },
     "metadata": {
      "needs_background": "light"
     },
     "output_type": "display_data"
    }
   ],
   "source": [
    "label = languages\n",
    "d_len = len(languages)\n",
    "width = 0.3\n",
    "\n",
    "index = [0,1,2]\n",
    "plt.barh(index,best,width)\n",
    "\n",
    "for i,v in enumerate(index):\n",
    "    s = str(best[i])\n",
    "    plt.text(best[i],v,s,horizontalalignment='left',verticalalignment='center')\n",
    "\n",
    "index = list(map(lambda x : x+width,index))\n",
    "plt.barh(index ,worst,width )\n",
    "\n",
    "for i,v in enumerate(index):\n",
    "    s = str(worst[i])\n",
    "    plt.text(worst[i],v,s,horizontalalignment='left',verticalalignment='center')\n",
    "\n",
    "index = list(map(lambda x : x+width,index))\n",
    "plt.barh(index,median,width)\n",
    "\n",
    "for i,v in enumerate(index):\n",
    "    s = str(median[i])\n",
    "    plt.text(median[i],v,s,horizontalalignment='left',verticalalignment='center')\n",
    "\n",
    "\n",
    "plt.yticks([0.3,1.3,2.3], label,fontsize = 10)\n",
    "plt.ylabel('Client',fontsize = 15)\n",
    "plt.xlabel('Time (ms)',fontsize = 15)\n",
    "plt.title('GET Calc',fontsize = 20)\n",
    "plt.legend(['best','worst','median'])\n",
    "plt.show()"
   ]
  },
  {
   "cell_type": "code",
   "execution_count": 5,
   "metadata": {},
   "outputs": [
    {
     "name": "stdout",
     "output_type": "stream",
     "text": [
      "/home/jsh/GitHub/SWCON_Project/2017110266/client/JSON/GET\n"
     ]
    }
   ],
   "source": [
    "os.chdir('/home/jsh/GitHub/SWCON_Project/2017110266/client/JSON/GET')\n",
    "print(os.getcwd())"
   ]
  },
  {
   "cell_type": "code",
   "execution_count": 6,
   "metadata": {},
   "outputs": [
    {
     "name": "stdout",
     "output_type": "stream",
     "text": [
      "['Language', 'best', 'worst', 'median']\n",
      "['Python 3', '119', '151', '124.0']\n",
      "['JS (node)', '374', '398', '386.0']\n",
      "['curl', '13', '37', '21.0']\n",
      "=================\n",
      "Languages :  ['Python 3', 'JS (node)', 'curl']\n",
      "best :  [119.0, 374.0, 13.0]\n",
      "worst :  [151.0, 398.0, 37.0]\n",
      "median :  [124.0, 386.0, 21.0]\n"
     ]
    }
   ],
   "source": [
    "languages = []\n",
    "best = []\n",
    "worst = []\n",
    "median = []\n",
    "datas = []\n",
    "\n",
    "with open('js_results.csv','r') as file:\n",
    "    results = csv.reader(file)\n",
    "\n",
    "    for data in results:\n",
    "        print(data)\n",
    "        datas.append(data)\n",
    "\n",
    "print(\"=================\")\n",
    "\n",
    "for data in datas:\n",
    "    languages.append(data[0])\n",
    "    best.append(data[1])\n",
    "    worst.append(data[2])\n",
    "    median.append(data[3])\n",
    "\n",
    "languages = languages[1:]\n",
    "best = list(map(float,best[1:]))\n",
    "worst = list(map(float,worst[1:]))\n",
    "median = list(map(float,median[1:]))\n",
    "print(\"Languages : \", languages)\n",
    "print(\"best : \", best)\n",
    "print(\"worst : \", worst)\n",
    "print(\"median : \",median )"
   ]
  },
  {
   "cell_type": "code",
   "execution_count": 7,
   "metadata": {},
   "outputs": [
    {
     "data": {
      "image/png": "[encoded data removed]",
      "text/plain": [
       "<Figure size 432x288 with 1 Axes>"
      ]
     },
     "metadata": {
      "needs_background": "light"
     },
     "output_type": "display_data"
    }
   ],
   "source": [
    "label = languages\n",
    "d_len = len(languages)\n",
    "width = 0.3\n",
    "\n",
    "index = [0,1,2]\n",
    "plt.barh(index,best,width)\n",
    "\n",
    "for i,v in enumerate(index):\n",
    "    s = str(best[i])\n",
    "    plt.text(best[i],v,s,horizontalalignment='left',verticalalignment='center')\n",
    "\n",
    "index = list(map(lambda x : x+width,index))\n",
    "plt.barh(index ,worst,width )\n",
    "\n",
    "for i,v in enumerate(index):\n",
    "    s = str(worst[i])\n",
    "    plt.text(worst[i],v,s,horizontalalignment='left',verticalalignment='center')\n",
    "\n",
    "index = list(map(lambda x : x+width,index))\n",
    "plt.barh(index,median,width)\n",
    "\n",
    "for i,v in enumerate(index):\n",
    "    s = str(median[i])\n",
    "    plt.text(median[i],v,s,horizontalalignment='left',verticalalignment='center')\n",
    "\n",
    "\n",
    "plt.yticks([0.3,1.3,2.3], label,fontsize = 10)\n",
    "plt.ylabel('Client',fontsize = 15)\n",
    "plt.xlabel('Time (ms)',fontsize = 15)\n",
    "plt.title('GET JSON',fontsize = 20)\n",
    "plt.legend(['best','worst','median'])\n",
    "plt.show()"
   ]
  },
  {
   "cell_type": "code",
   "execution_count": 8,
   "metadata": {},
   "outputs": [
    {
     "name": "stdout",
     "output_type": "stream",
     "text": [
      "/home/jsh/GitHub/SWCON_Project/2017110266/client/JSON/POST\n"
     ]
    }
   ],
   "source": [
    "os.chdir('/home/jsh/GitHub/SWCON_Project/2017110266/client/JSON/POST')\n",
    "print(os.getcwd())"
   ]
  },
  {
   "cell_type": "code",
   "execution_count": 9,
   "metadata": {},
   "outputs": [
    {
     "name": "stdout",
     "output_type": "stream",
     "text": [
      "['Language', 'best', 'worst', 'median']\n",
      "['Python 3', '100', '123', '110.0']\n",
      "['JS (node)', '306', '331', '309.5']\n",
      "['curl', '12', '20', '14.5']\n",
      "=================\n",
      "Languages :  ['Python 3', 'JS (node)', 'curl']\n",
      "best :  [100.0, 306.0, 12.0]\n",
      "worst :  [123.0, 331.0, 20.0]\n",
      "median :  [110.0, 309.5, 14.5]\n"
     ]
    }
   ],
   "source": [
    "languages = []\n",
    "best = []\n",
    "worst = []\n",
    "median = []\n",
    "datas = []\n",
    "\n",
    "with open('js_results.csv','r') as file:\n",
    "    results = csv.reader(file)\n",
    "\n",
    "    for data in results:\n",
    "        print(data)\n",
    "        datas.append(data)\n",
    "\n",
    "print(\"=================\")\n",
    "\n",
    "for data in datas:\n",
    "    languages.append(data[0])\n",
    "    best.append(data[1])\n",
    "    worst.append(data[2])\n",
    "    median.append(data[3])\n",
    "\n",
    "languages = languages[1:]\n",
    "best = list(map(float,best[1:]))\n",
    "worst = list(map(float,worst[1:]))\n",
    "median = list(map(float,median[1:]))\n",
    "print(\"Languages : \", languages)\n",
    "print(\"best : \", best)\n",
    "print(\"worst : \", worst)\n",
    "print(\"median : \",median )"
   ]
  },
  {
   "cell_type": "code",
   "execution_count": 10,
   "metadata": {},
   "outputs": [
    {
     "data": {
      "image/png": "[encoded data removed]",
      "text/plain": [
       "<Figure size 432x288 with 1 Axes>"
      ]
     },
     "metadata": {
      "needs_background": "light"
     },
     "output_type": "display_data"
    }
   ],
   "source": [
    "label = languages\n",
    "d_len = len(languages)\n",
    "width = 0.3\n",
    "\n",
    "index = [0,1,2]\n",
    "plt.barh(index,best,width)\n",
    "\n",
    "for i,v in enumerate(index):\n",
    "    s = str(best[i])\n",
    "    plt.text(best[i],v,s,horizontalalignment='left',verticalalignment='center')\n",
    "\n",
    "index = list(map(lambda x : x+width,index))\n",
    "plt.barh(index ,worst,width )\n",
    "\n",
    "for i,v in enumerate(index):\n",
    "    s = str(worst[i])\n",
    "    plt.text(worst[i],v,s,horizontalalignment='left',verticalalignment='center')\n",
    "\n",
    "index = list(map(lambda x : x+width,index))\n",
    "plt.barh(index,median,width)\n",
    "\n",
    "for i,v in enumerate(index):\n",
    "    s = str(median[i])\n",
    "    plt.text(median[i],v,s,horizontalalignment='left',verticalalignment='center')\n",
    "\n",
    "\n",
    "plt.yticks([0.3,1.3,2.3], label,fontsize = 10)\n",
    "plt.ylabel('Client',fontsize = 15)\n",
    "plt.xlabel('Time (ms)',fontsize = 15)\n",
    "plt.title('POST JSON',fontsize = 20)\n",
    "plt.legend(['best','worst','median'])\n",
    "plt.show()"
   ]
  },
  {
   "cell_type": "code",
   "execution_count": null,
   "metadata": {},
   "outputs": [],
   "source": []
  }
 ],
 "metadata": {
  "kernelspec": {
   "display_name": "Python 3",
   "language": "python",
   "name": "python3"
  },
  "language_info": {
   "codemirror_mode": {
    "name": "ipython",
    "version": 3
   },
   "file_extension": ".py",
   "mimetype": "text/x-python",
   "name": "python",
   "nbconvert_exporter": "python",
   "pygments_lexer": "ipython3",
   "version": "3.6.9"
  }
 },
 "nbformat": 4,
 "nbformat_minor": 4
}
