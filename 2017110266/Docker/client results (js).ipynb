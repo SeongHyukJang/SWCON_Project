{
 "cells": [
  {
   "cell_type": "code",
   "execution_count": 1,
   "metadata": {},
   "outputs": [],
   "source": [
    "import os\n",
    "import json\n",
    "import statistics\n",
    "from matplotlib import pyplot as plt"
   ]
  },
  {
   "cell_type": "code",
   "execution_count": 2,
   "metadata": {},
   "outputs": [
    {
     "name": "stdout",
     "output_type": "stream",
     "text": [
      "/home/jsh/GitHub/SWCON_Project/2017110266/Docker/client\n"
     ]
    }
   ],
   "source": [
    "os.chdir('/home/jsh/GitHub/SWCON_Project/2017110266/Docker/client')\n",
    "print(os.getcwd())"
   ]
  },
  {
   "cell_type": "code",
   "execution_count": 3,
   "metadata": {},
   "outputs": [],
   "source": [
    "with open('clientResults.json') as file:\n",
    "    data = json.load(file)\n",
    "    \n",
    "js_data = data['ServerLanguage']['javascript']"
   ]
  },
  {
   "cell_type": "code",
   "execution_count": 4,
   "metadata": {},
   "outputs": [],
   "source": [
    "json_data = js_data['json']\n",
    "calc_data = js_data['calc']\n",
    "html_data = js_data['html']"
   ]
  },
  {
   "cell_type": "markdown",
   "metadata": {},
   "source": [
    "## GET JSON"
   ]
  },
  {
   "cell_type": "code",
   "execution_count": 5,
   "metadata": {},
   "outputs": [],
   "source": [
    "GET_json = json_data['get']\n",
    "\n",
    "py = GET_json[0][1:]\n",
    "js = GET_json[1][1:]\n",
    "curl = GET_json[2][1:]\n",
    "\n",
    "languages = ['Python 3', 'JS (node)', 'curl']\n",
    "best = [min(py),min(js),min(curl)]\n",
    "worst = [max(py),max(js),max(curl)]\n",
    "median = [statistics.median(py),statistics.median(js),statistics.median(curl)]"
   ]
  },
  {
   "cell_type": "code",
   "execution_count": 6,
   "metadata": {},
   "outputs": [
    {
     "data": {
      "image/png": "[encoded data removed]",
      "text/plain": [
       "<Figure size 432x288 with 1 Axes>"
      ]
     },
     "metadata": {
      "needs_background": "light"
     },
     "output_type": "display_data"
    }
   ],
   "source": [
    "label = languages\n",
    "d_len = len(languages)\n",
    "width = 0.3\n",
    "\n",
    "index = [0,1,2]\n",
    "plt.barh(index,best,width)\n",
    "\n",
    "for i,v in enumerate(index):\n",
    "    s = str(best[i])\n",
    "    plt.text(best[i],v,s,horizontalalignment='left',verticalalignment='center')\n",
    "\n",
    "index = list(map(lambda x : x+width,index))\n",
    "plt.barh(index ,worst,width )\n",
    "\n",
    "for i,v in enumerate(index):\n",
    "    s = str(worst[i])\n",
    "    plt.text(worst[i],v,s,horizontalalignment='left',verticalalignment='center')\n",
    "\n",
    "index = list(map(lambda x : x+width,index))\n",
    "plt.barh(index,median,width)\n",
    "\n",
    "for i,v in enumerate(index):\n",
    "    s = str(median[i])\n",
    "    plt.text(median[i],v,s,horizontalalignment='left',verticalalignment='center')\n",
    "\n",
    "\n",
    "plt.yticks([0.3,1.3,2.3], label,fontsize = 10)\n",
    "plt.ylabel('Client',fontsize = 15)\n",
    "plt.xlabel('Time (ms)',fontsize = 15)\n",
    "plt.title('GET JSON',fontsize = 20)\n",
    "plt.legend(['best','worst','median'])\n",
    "plt.show()"
   ]
  },
  {
   "cell_type": "markdown",
   "metadata": {},
   "source": [
    "## POST JSON"
   ]
  },
  {
   "cell_type": "code",
   "execution_count": 7,
   "metadata": {},
   "outputs": [],
   "source": [
    "POST_json = json_data['post']\n",
    "\n",
    "py = POST_json[0][1:]\n",
    "js = POST_json[1][1:]\n",
    "curl = POST_json[2][1:]\n",
    "\n",
    "languages = ['Python 3', 'JS (node)', 'curl']\n",
    "best = [min(py),min(js),min(curl)]\n",
    "worst = [max(py),max(js),max(curl)]\n",
    "median = [statistics.median(py),statistics.median(js),statistics.median(curl)]"
   ]
  },
  {
   "cell_type": "code",
   "execution_count": 8,
   "metadata": {},
   "outputs": [
    {
     "data": {
      "image/png": "[encoded data removed]",
      "text/plain": [
       "<Figure size 432x288 with 1 Axes>"
      ]
     },
     "metadata": {
      "needs_background": "light"
     },
     "output_type": "display_data"
    }
   ],
   "source": [
    "label = languages\n",
    "d_len = len(languages)\n",
    "width = 0.3\n",
    "\n",
    "index = [0,1,2]\n",
    "plt.barh(index,best,width)\n",
    "\n",
    "for i,v in enumerate(index):\n",
    "    s = str(best[i])\n",
    "    plt.text(best[i],v,s,horizontalalignment='left',verticalalignment='center')\n",
    "\n",
    "index = list(map(lambda x : x+width,index))\n",
    "plt.barh(index ,worst,width )\n",
    "\n",
    "for i,v in enumerate(index):\n",
    "    s = str(worst[i])\n",
    "    plt.text(worst[i],v,s,horizontalalignment='left',verticalalignment='center')\n",
    "\n",
    "index = list(map(lambda x : x+width,index))\n",
    "plt.barh(index,median,width)\n",
    "\n",
    "for i,v in enumerate(index):\n",
    "    s = str(median[i])\n",
    "    plt.text(median[i],v,s,horizontalalignment='left',verticalalignment='center')\n",
    "\n",
    "\n",
    "plt.yticks([0.3,1.3,2.3], label,fontsize = 10)\n",
    "plt.ylabel('Cleint',fontsize = 15)\n",
    "plt.xlabel('Time (ms)',fontsize = 15)\n",
    "plt.title('POST JSON',fontsize = 20)\n",
    "plt.legend(['best','worst','median'])\n",
    "plt.show()"
   ]
  },
  {
   "cell_type": "markdown",
   "metadata": {},
   "source": [
    "## GET calc"
   ]
  },
  {
   "cell_type": "code",
   "execution_count": 9,
   "metadata": {},
   "outputs": [],
   "source": [
    "GET_calc = calc_data['get']\n",
    "\n",
    "py = GET_calc[0][1:]\n",
    "js = GET_calc[1][1:]\n",
    "curl = GET_calc[2][1:]\n",
    "\n",
    "languages = ['Python 3', 'JS (node)', 'curl']\n",
    "best = [min(py),min(js),min(curl)]\n",
    "worst = [max(py),max(js),max(curl)]\n",
    "median = [statistics.median(py),statistics.median(js),statistics.median(curl)]"
   ]
  },
  {
   "cell_type": "code",
   "execution_count": 10,
   "metadata": {},
   "outputs": [
    {
     "data": {
      "image/png": "[encoded data removed]",
      "text/plain": [
       "<Figure size 432x288 with 1 Axes>"
      ]
     },
     "metadata": {
      "needs_background": "light"
     },
     "output_type": "display_data"
    }
   ],
   "source": [
    "label = languages\n",
    "d_len = len(languages)\n",
    "width = 0.3\n",
    "\n",
    "index = [0,1,2]\n",
    "plt.barh(index,best,width)\n",
    "\n",
    "for i,v in enumerate(index):\n",
    "    s = str(best[i])\n",
    "    plt.text(best[i],v,s,horizontalalignment='left',verticalalignment='center')\n",
    "\n",
    "index = list(map(lambda x : x+width,index))\n",
    "plt.barh(index ,worst,width )\n",
    "\n",
    "for i,v in enumerate(index):\n",
    "    s = str(worst[i])\n",
    "    plt.text(worst[i],v,s,horizontalalignment='left',verticalalignment='center')\n",
    "\n",
    "index = list(map(lambda x : x+width,index))\n",
    "plt.barh(index,median,width)\n",
    "\n",
    "for i,v in enumerate(index):\n",
    "    s = str(median[i])\n",
    "    plt.text(median[i],v,s,horizontalalignment='left',verticalalignment='center')\n",
    "\n",
    "\n",
    "plt.yticks([0.3,1.3,2.3], label,fontsize = 10)\n",
    "plt.ylabel('Client',fontsize = 15)\n",
    "plt.xlabel('Time (ms)',fontsize = 15)\n",
    "plt.title('GET Calc',fontsize = 20)\n",
    "plt.legend(['best','worst','median'])\n",
    "plt.show()"
   ]
  },
  {
   "cell_type": "markdown",
   "metadata": {},
   "source": [
    "## GET html"
   ]
  },
  {
   "cell_type": "code",
   "execution_count": 11,
   "metadata": {},
   "outputs": [],
   "source": [
    "GET_html = html_data['get']\n",
    "\n",
    "py = GET_html[0][1:]\n",
    "js = GET_html[1][1:]\n",
    "curl = GET_html[2][1:]\n",
    "\n",
    "languages = ['Python 3', 'JS (node)', 'curl']\n",
    "best = [min(py),min(js),min(curl)]\n",
    "worst = [max(py),max(js),max(curl)]\n",
    "median = [statistics.median(py),statistics.median(js),statistics.median(curl)]"
   ]
  },
  {
   "cell_type": "code",
   "execution_count": 12,
   "metadata": {},
   "outputs": [
    {
     "data": {
      "image/png": "[encoded data removed]",
      "text/plain": [
       "<Figure size 432x288 with 1 Axes>"
      ]
     },
     "metadata": {
      "needs_background": "light"
     },
     "output_type": "display_data"
    }
   ],
   "source": [
    "label = languages\n",
    "d_len = len(languages)\n",
    "width = 0.3\n",
    "\n",
    "index = [0,1,2]\n",
    "plt.barh(index,best,width)\n",
    "\n",
    "for i,v in enumerate(index):\n",
    "    s = str(best[i])\n",
    "    plt.text(best[i],v,s,horizontalalignment='left',verticalalignment='center')\n",
    "\n",
    "index = list(map(lambda x : x+width,index))\n",
    "plt.barh(index ,worst,width )\n",
    "\n",
    "for i,v in enumerate(index):\n",
    "    s = str(worst[i])\n",
    "    plt.text(worst[i],v,s,horizontalalignment='left',verticalalignment='center')\n",
    "\n",
    "index = list(map(lambda x : x+width,index))\n",
    "plt.barh(index,median,width)\n",
    "\n",
    "for i,v in enumerate(index):\n",
    "    s = str(median[i])\n",
    "    plt.text(median[i],v,s,horizontalalignment='left',verticalalignment='center')\n",
    "\n",
    "\n",
    "plt.yticks([0.3,1.3,2.3], label,fontsize = 10)\n",
    "plt.ylabel('Cleint',fontsize = 15)\n",
    "plt.xlabel('Time (ms)',fontsize = 15)\n",
    "plt.title('GET html',fontsize = 20)\n",
    "plt.legend(['best','worst','median'])\n",
    "plt.show()"
   ]
  },
  {
   "cell_type": "code",
   "execution_count": null,
   "metadata": {},
   "outputs": [],
   "source": []
  }
 ],
 "metadata": {
  "kernelspec": {
   "display_name": "Python 3",
   "language": "python",
   "name": "python3"
  },
  "language_info": {
   "codemirror_mode": {
    "name": "ipython",
    "version": 3
   },
   "file_extension": ".py",
   "mimetype": "text/x-python",
   "name": "python",
   "nbconvert_exporter": "python",
   "pygments_lexer": "ipython3",
   "version": "3.6.9"
  }
 },
 "nbformat": 4,
 "nbformat_minor": 4
}
