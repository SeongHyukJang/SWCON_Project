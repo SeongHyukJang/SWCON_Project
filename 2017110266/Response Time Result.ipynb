{
 "cells": [
  {
   "cell_type": "code",
   "execution_count": 2,
   "metadata": {},
   "outputs": [],
   "source": [
    "import os\n",
    "import json\n",
    "import statistics\n",
    "from matplotlib import pyplot as plt"
   ]
  },
  {
   "cell_type": "code",
   "execution_count": 3,
   "metadata": {},
   "outputs": [
    {
     "name": "stdout",
     "output_type": "stream",
     "text": [
      "/home/jsh/GitHub/SWCON_Project/2017110266/client\n"
     ]
    }
   ],
   "source": [
    "os.chdir('/home/jsh/GitHub/SWCON_Project/2017110266/client')\n",
    "print(os.getcwd())"
   ]
  },
  {
   "cell_type": "code",
   "execution_count": 4,
   "metadata": {},
   "outputs": [],
   "source": [
    "with open('clientResults.json') as file:\n",
    "    data = json.load(file)\n",
    "    \n",
    "Linux = data['OS']['Linux']\n",
    "Docker = data['OS']['Docker']"
   ]
  },
  {
   "cell_type": "markdown",
   "metadata": {},
   "source": [
    "# Linux"
   ]
  },
  {
   "cell_type": "markdown",
   "metadata": {},
   "source": [
    "## Python Server"
   ]
  },
  {
   "cell_type": "code",
   "execution_count": 5,
   "metadata": {},
   "outputs": [
    {
     "name": "stdout",
     "output_type": "stream",
     "text": [
      "{'Server': {'python': {'resource': {'json': {'method': {'GET': [['Python 3', 97, 96, 95, 105, 111, 97, 100, 107, 99, 96], ['JS (node)', 75, 77, 80, 75, 76, 79, 77, 73, 73, 75], ['curl', 16, 15, 16, 16, 14, 14, 15, 15, 16, 16]], 'POST': [['Python 3', 137, 128, 125, 131, 129, 125, 121, 196, 129, 125], ['JS (node)', 98, 91, 82, 93, 102, 99, 94, 87, 99, 100], ['curl', 35, 32, 30, 31, 29, 30, 28, 29, 28, 31]]}}, 'calc': {'method': {'GET': [['Python 3', 248, 242, 249, 241, 270, 286, 258, 318, 254, 251], ['JS (node)', 253, 218, 226, 234, 207, 229, 211, 244, 230, 211], ['curl', 147, 148, 153, 146, 147, 147, 147, 147, 147, 147]]}}, 'html': {'method': {'GET': [['Python 3', 108, 102, 109, 107, 101, 119, 157, 108, 103, 135], ['JS (node)', 79, 77, 73, 71, 80, 103, 76, 77, 72, 74], ['curl', 14, 16, 15, 15, 15, 15, 19, 19, 21, 17]]}}}}, 'javascript': {'resource': {'json': {'method': {'GET': [['Python 3', 136, 98, 108, 101, 100, 96, 99, 108, 148, 108], ['JS (node)', 73, 74, 98, 95, 73, 74, 73, 73, 76, 74], ['curl', 14, 14, 13, 13, 14, 16, 16, 17, 16, 15]], 'POST': [['Python 3', 145, 113, 111, 103, 104, 112, 133, 103, 104, 140], ['JS (node)', 81, 75, 79, 101, 80, 76, 79, 76, 77, 80], ['curl', 18, 17, 18, 22, 22, 16, 16, 16, 16, 17]]}}, 'calc': {'method': {'GET': [['Python 3', 114, 108, 110, 108, 99, 100, 110, 144, 103, 100], ['JS (node)', 75, 99, 77, 75, 76, 74, 74, 74, 76, 76], ['curl', 16, 14, 17, 17, 16, 16, 17, 17, 20, 20]]}}, 'html': {'method': {'GET': [['Python 3', 130, 102, 108, 110, 99, 98, 96, 134, 146, 98], ['JS (node)', 71, 93, 78, 77, 72, 71, 74, 86, 95, 73], ['curl', 13, 10, 13, 14, 14, 14, 18, 41, 28, 16]]}}}}}}\n"
     ]
    }
   ],
   "source": [
    "print(Linux)"
   ]
  },
  {
   "cell_type": "markdown",
   "metadata": {},
   "source": [
    "# Docker"
   ]
  },
  {
   "cell_type": "code",
   "execution_count": 6,
   "metadata": {},
   "outputs": [
    {
     "name": "stdout",
     "output_type": "stream",
     "text": [
      "{'Server': {'python': {'resource': {'json': {'method': {'GET': [['Python 3', 100, 91, 92, 108, 111, 100, 94, 112, 107, 95], ['JS (node)', 79, 69, 68, 69, 69, 69, 69, 73, 79, 80], ['curl', 13, 15, 13, 13, 15, 18, 19, 19, 20, 22]], 'POST': [['Python 3', 265, 122, 125, 117, 108, 103, 103, 103, 114, 143], ['JS (node)', 100, 83, 79, 80, 121, 82, 79, 85, 117, 97], ['curl', 27, 28, 28, 28, 29, 32, 34, 31, 28, 27]]}}, 'calc': {'method': {'GET': [['Python 3', 529, 503, 425, 499, 430, 408, 419, 402, 405, 403], ['JS (node)', 391, 387, 381, 387, 385, 380, 389, 385, 379, 384], ['curl', 335, 327, 338, 333, 326, 340, 334, 327, 343, 333]]}}, 'html': {'method': {'GET': [['Python 3', 107, 96, 100, 95, 99, 91, 91, 91, 95, 93], ['JS (node)', 72, 75, 67, 67, 67, 70, 68, 71, 67, 67], ['curl', 13, 14, 13, 12, 13, 14, 15, 18, 18, 20]]}}}}, 'javascript': {'resource': {'json': {'method': {'GET': [['Python 3', 129, 96, 109, 100, 94, 92, 92, 91, 96, 92], ['JS (node)', 77, 67, 67, 69, 68, 67, 71, 69, 68, 67], ['curl', 14, 13, 14, 13, 14, 18, 33, 34, 30, 34]], 'POST': [['Python 3', 135, 96, 104, 101, 98, 95, 99, 94, 94, 94], ['JS (node)', 76, 70, 74, 74, 70, 69, 72, 69, 70, 69], ['curl', 15, 14, 14, 15, 15, 18, 24, 25, 26, 25]]}}, 'calc': {'method': {'GET': [['Python 3', 134, 106, 102, 123, 101, 96, 99, 95, 94, 102], ['JS (node)', 74, 74, 72, 69, 74, 69, 71, 69, 70, 72], ['curl', 15, 15, 16, 20, 21, 21, 20, 25, 33, 32]]}}, 'html': {'method': {'GET': [['Python 3', 128, 94, 98, 99, 92, 91, 94, 92, 92, 95], ['JS (node)', 71, 67, 69, 68, 67, 67, 67, 68, 67, 68], ['curl', 14, 13, 14, 14, 17, 20, 29, 29, 20, 20]]}}}}}}\n"
     ]
    }
   ],
   "source": [
    "print(Docker)"
   ]
  },
  {
   "cell_type": "code",
   "execution_count": null,
   "metadata": {},
   "outputs": [],
   "source": []
  }
 ],
 "metadata": {
  "kernelspec": {
   "display_name": "Python 3",
   "language": "python",
   "name": "python3"
  },
  "language_info": {
   "codemirror_mode": {
    "name": "ipython",
    "version": 3
   },
   "file_extension": ".py",
   "mimetype": "text/x-python",
   "name": "python",
   "nbconvert_exporter": "python",
   "pygments_lexer": "ipython3",
   "version": "3.6.9"
  }
 },
 "nbformat": 4,
 "nbformat_minor": 4
}
