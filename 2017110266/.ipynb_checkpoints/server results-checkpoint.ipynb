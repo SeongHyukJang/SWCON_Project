{
 "cells": [
  {
   "cell_type": "code",
   "execution_count": 88,
   "metadata": {},
   "outputs": [],
   "source": [
    "import os\n",
    "import json\n",
    "import statistics\n",
    "from matplotlib import pyplot as plt"
   ]
  },
  {
   "cell_type": "code",
   "execution_count": 89,
   "metadata": {},
   "outputs": [
    {
     "name": "stdout",
     "output_type": "stream",
     "text": [
      "/home/jsh/GitHub/SWCON_Project/2017110266/server\n"
     ]
    }
   ],
   "source": [
    "os.chdir('/home/jsh/GitHub/SWCON_Project/2017110266/server')\n",
    "print(os.getcwd())"
   ]
  },
  {
   "cell_type": "code",
   "execution_count": 90,
   "metadata": {},
   "outputs": [],
   "source": [
    "with open('serverResults.json') as file:\n",
    "    data = json.load(file)\n",
    "\n",
    "py_data = data['ServerLanguage']['python']\n",
    "js_data = data['ServerLanguage']['javascript']"
   ]
  },
  {
   "cell_type": "markdown",
   "metadata": {},
   "source": [
    "## GET JSON"
   ]
  },
  {
   "cell_type": "code",
   "execution_count": 91,
   "metadata": {},
   "outputs": [
    {
     "name": "stdout",
     "output_type": "stream",
     "text": [
      "[0, 0, 0, 0, 0, 0, 0, 0, 0, 0, 0, 1, 0, 0, 0, 0, 0, 0, 0, 0, 0, 0, 0, 0, 0, 0, 0, 0, 0, 0]\n",
      "[2, 0, 0, 0, 0, 0, 0, 0, 0, 0, 0, 1, 0, 0, 0, 0, 0, 0, 0, 1, 0, 1, 0, 0, 0, 0, 0, 0, 0, 0]\n"
     ]
    }
   ],
   "source": [
    "py_GETjson = py_data['json']['GET']\n",
    "js_GETjson = js_data['json']['GET']\n",
    "\n",
    "print(py_GETjson)\n",
    "print(js_GETjson)\n",
    "\n",
    "py_best = min(py_GETjson)\n",
    "py_worst = max(py_GETjson)\n",
    "py_median = statistics.median(py_GETjson)\n",
    "\n",
    "js_best = min(js_GETjson)\n",
    "js_worst = max(js_GETjson)\n",
    "js_median = statistics.median(js_GETjson)\n",
    "\n",
    "best = [py_best, js_best]\n",
    "worst = [py_worst, js_worst]\n",
    "median = [py_median, js_median]"
   ]
  },
  {
   "cell_type": "code",
   "execution_count": 74,
   "metadata": {},
   "outputs": [
    {
     "data": {
      "image/png": "[encoded data removed]",
      "text/plain": [
       "<Figure size 432x288 with 1 Axes>"
      ]
     },
     "metadata": {
      "needs_background": "light"
     },
     "output_type": "display_data"
    }
   ],
   "source": [
    "label = ['Python 3', 'JavaScript']\n",
    "d_len = 2\n",
    "width = 0.3\n",
    "\n",
    "index = [0,1]\n",
    "plt.barh(index, best, width)\n",
    "    \n",
    "index = list(map(lambda x: x+width,index))\n",
    "plt.barh(index,worst,width)\n",
    "\n",
    "index = list(map(lambda x: x+width, index))\n",
    "plt.barh(index,median,width)\n",
    "\n",
    "\n",
    "\n",
    "plt.yticks([0.2,1.3],label,fontsize = 10)\n",
    "plt.ylabel('Server', fontsize = 15)\n",
    "plt.xlabel('Time(ms)',fontsize = 15)\n",
    "plt.title('GET JSON',fontsize = 20)\n",
    "plt.legend(['best','worst','median'])\n",
    "plt.show()"
   ]
  },
  {
   "cell_type": "markdown",
   "metadata": {},
   "source": [
    "## POST JSON"
   ]
  },
  {
   "cell_type": "code",
   "execution_count": 92,
   "metadata": {},
   "outputs": [],
   "source": [
    "py_POSTjson = py_data['json']['POST']\n",
    "js_POSTjson = js_data['json']['POST']\n",
    "\n",
    "py_best = min(py_POSTjson)\n",
    "py_worst = max(py_POSTjson)\n",
    "py_median = statistics.median(py_POSTjson)\n",
    "\n",
    "js_best = min(js_POSTjson)\n",
    "js_worst = max(js_POSTjson)\n",
    "js_median = statistics.median(js_POSTjson)\n",
    "\n",
    "best = [py_best, js_best]\n",
    "worst = [py_worst, js_worst]\n",
    "median = [py_median, js_median]"
   ]
  },
  {
   "cell_type": "code",
   "execution_count": 93,
   "metadata": {},
   "outputs": [
    {
     "data": {
      "image/png": "[encoded data removed]",
      "text/plain": [
       "<Figure size 432x288 with 1 Axes>"
      ]
     },
     "metadata": {
      "needs_background": "light"
     },
     "output_type": "display_data"
    }
   ],
   "source": [
    "label = ['Python 3', 'JavaScript']\n",
    "d_len = 2\n",
    "width = 0.3\n",
    "\n",
    "index = [0,1]\n",
    "plt.barh(index, best, width)\n",
    "    \n",
    "index = list(map(lambda x: x+width,index))\n",
    "plt.barh(index,worst,width)\n",
    "\n",
    "index = list(map(lambda x: x+width, index))\n",
    "plt.barh(index,median,width)\n",
    "\n",
    "\n",
    "\n",
    "plt.yticks([0.2,1.3],label,fontsize = 10)\n",
    "plt.ylabel('Server', fontsize = 15)\n",
    "plt.xlabel('Time(ms)',fontsize = 15)\n",
    "plt.title('GET JSON',fontsize = 20)\n",
    "plt.legend(['best','worst','median'])\n",
    "plt.show()"
   ]
  },
  {
   "cell_type": "markdown",
   "metadata": {},
   "source": [
    "## GET calc"
   ]
  },
  {
   "cell_type": "code",
   "execution_count": 94,
   "metadata": {},
   "outputs": [],
   "source": [
    "py_GETcalc = py_data['calc']['GET']\n",
    "js_GETcalc = js_data['calc']['GET']\n",
    "\n",
    "py_best = min(py_GETcalc)\n",
    "py_worst = max(py_GETcalc)\n",
    "py_median = statistics.median(py_GETcalc)\n",
    "\n",
    "js_best = min(js_GETcalc)\n",
    "js_worst = max(js_GETcalc)\n",
    "js_median = statistics.median(js_GETcalc)\n",
    "\n",
    "best = [py_best, js_best]\n",
    "worst = [py_worst, js_worst]\n",
    "median = [py_median, js_median]"
   ]
  },
  {
   "cell_type": "code",
   "execution_count": 95,
   "metadata": {},
   "outputs": [
    {
     "data": {
      "image/png": "[encoded data removed]",
      "text/plain": [
       "<Figure size 432x288 with 1 Axes>"
      ]
     },
     "metadata": {
      "needs_background": "light"
     },
     "output_type": "display_data"
    }
   ],
   "source": [
    "label = ['Python 3', 'JavaScript']\n",
    "d_len = 2\n",
    "width = 0.3\n",
    "\n",
    "index = [0,1]\n",
    "plt.barh(index, best, width)\n",
    "    \n",
    "index = list(map(lambda x: x+width,index))\n",
    "plt.barh(index,worst,width)\n",
    "\n",
    "index = list(map(lambda x: x+width, index))\n",
    "plt.barh(index,median,width)\n",
    "\n",
    "\n",
    "\n",
    "plt.yticks([0.2,1.3],label,fontsize = 10)\n",
    "plt.ylabel('Server', fontsize = 15)\n",
    "plt.xlabel('Time(ms)',fontsize = 15)\n",
    "plt.title('GET JSON',fontsize = 20)\n",
    "plt.legend(['best','worst','median'])\n",
    "plt.show()"
   ]
  },
  {
   "cell_type": "markdown",
   "metadata": {},
   "source": [
    "## GET html"
   ]
  },
  {
   "cell_type": "code",
   "execution_count": 98,
   "metadata": {},
   "outputs": [],
   "source": [
    "py_GEThtml = py_data['html']['GET']\n",
    "js_GEThtml = js_data['html']['GET']\n",
    "\n",
    "py_best = min(py_GEThtml)\n",
    "py_worst = max(py_GEThtml)\n",
    "py_median = statistics.median(py_GEThtml)\n",
    "\n",
    "js_best = min(js_GEThtml)\n",
    "js_worst = max(js_GEThtml)\n",
    "js_median = statistics.median(js_GEThtml)\n",
    "\n",
    "best = [py_best, js_best]\n",
    "worst = [py_worst, js_worst]\n",
    "median = [py_median, js_median]"
   ]
  },
  {
   "cell_type": "code",
   "execution_count": 99,
   "metadata": {},
   "outputs": [
    {
     "data": {
      "image/png": "[encoded data removed]",
      "text/plain": [
       "<Figure size 432x288 with 1 Axes>"
      ]
     },
     "metadata": {
      "needs_background": "light"
     },
     "output_type": "display_data"
    }
   ],
   "source": [
    "label = ['Python 3', 'JavaScript']\n",
    "d_len = 2\n",
    "width = 0.3\n",
    "\n",
    "index = [0,1]\n",
    "plt.barh(index, best, width)\n",
    "    \n",
    "index = list(map(lambda x: x+width,index))\n",
    "plt.barh(index,worst,width)\n",
    "\n",
    "index = list(map(lambda x: x+width, index))\n",
    "plt.barh(index,median,width)\n",
    "\n",
    "\n",
    "\n",
    "plt.yticks([0.2,1.3],label,fontsize = 10)\n",
    "plt.ylabel('Server', fontsize = 15)\n",
    "plt.xlabel('Time(ms)',fontsize = 15)\n",
    "plt.title('GET JSON',fontsize = 20)\n",
    "plt.legend(['best','worst','median'])\n",
    "plt.show()"
   ]
  },
  {
   "cell_type": "code",
   "execution_count": null,
   "metadata": {},
   "outputs": [],
   "source": []
  }
 ],
 "metadata": {
  "kernelspec": {
   "display_name": "Python 3",
   "language": "python",
   "name": "python3"
  },
  "language_info": {
   "codemirror_mode": {
    "name": "ipython",
    "version": 3
   },
   "file_extension": ".py",
   "mimetype": "text/x-python",
   "name": "python",
   "nbconvert_exporter": "python",
   "pygments_lexer": "ipython3",
   "version": "3.6.9"
  }
 },
 "nbformat": 4,
 "nbformat_minor": 4
}
