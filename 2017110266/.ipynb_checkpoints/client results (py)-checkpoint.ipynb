{
 "cells": [
  {
   "cell_type": "code",
   "execution_count": 1,
   "metadata": {},
   "outputs": [],
   "source": [
    "import os\n",
    "import json\n",
    "from matplotlib import pyplot as plt"
   ]
  },
  {
   "cell_type": "code",
   "execution_count": 2,
   "metadata": {},
   "outputs": [
    {
     "name": "stdout",
     "output_type": "stream",
     "text": [
      "/home/jsh/GitHub/SWCON_Project/2017110266\n"
     ]
    }
   ],
   "source": [
    "os.chdir('/home/jsh/GitHub/SWCON_Project/2017110266')\n",
    "print(os.getcwd())"
   ]
  },
  {
   "cell_type": "code",
   "execution_count": 3,
   "metadata": {},
   "outputs": [],
   "source": [
    "with open('clientResults.json') as file:\n",
    "    data = json.load(file)\n",
    "\n",
    "py_data = data[0]['language'][0]['Python']\n",
    "js_data = data[0]['language'][1]['JavaScript']"
   ]
  },
  {
   "cell_type": "code",
   "execution_count": 4,
   "metadata": {},
   "outputs": [],
   "source": [
    "json_data = py_data[0]['json'][0]\n",
    "calc_data = py_data[1]['calc'][0]\n",
    "html_data = py_data[2]['html'][0]"
   ]
  },
  {
   "cell_type": "markdown",
   "metadata": {},
   "source": [
    "## GET JSON"
   ]
  },
  {
   "cell_type": "code",
   "execution_count": 5,
   "metadata": {},
   "outputs": [
    {
     "name": "stdout",
     "output_type": "stream",
     "text": [
      "['Language', 'best', 'worst', 'median']\n",
      "['Python 3', 124, 146, 127.0]\n",
      "['JS (node)', 297, 302, 299.5]\n",
      "['curl', 12, 21, 14.5]\n",
      "==========================\n",
      "Languages :  ['Python 3', 'JS (node)', 'curl']\n",
      "best :  [124.0, 297.0, 12.0]\n",
      "worst :  [146.0, 302.0, 21.0]\n",
      "median :  [127.0, 299.5, 14.5]\n"
     ]
    }
   ],
   "source": [
    "GET_json = json_data['GET']\n",
    "for data in GET_json:\n",
    "    print(data)\n",
    "print(\"==========================\")\n",
    "languages = []\n",
    "best = []\n",
    "worst = []\n",
    "median = []\n",
    "datas = []\n",
    "\n",
    "for data in GET_json:\n",
    "    languages.append(data[0])\n",
    "    best.append(data[1])\n",
    "    worst.append(data[2])\n",
    "    median.append(data[3])\n",
    "    \n",
    "languages = languages[1:]\n",
    "best = list(map(float,best[1:]))\n",
    "worst = list(map(float,worst[1:]))\n",
    "median = list(map(float,median[1:]))\n",
    "print(\"Languages : \", languages)\n",
    "print(\"best : \", best)\n",
    "print(\"worst : \", worst)\n",
    "print(\"median : \",median )"
   ]
  },
  {
   "cell_type": "code",
   "execution_count": 6,
   "metadata": {},
   "outputs": [
    {
     "data": {
      "image/png": "[encoded data removed]",
      "text/plain": [
       "<Figure size 432x288 with 1 Axes>"
      ]
     },
     "metadata": {
      "needs_background": "light"
     },
     "output_type": "display_data"
    }
   ],
   "source": [
    "label = languages\n",
    "d_len = len(languages)\n",
    "width = 0.3\n",
    "\n",
    "index = [0,1,2]\n",
    "plt.barh(index,best,width)\n",
    "\n",
    "for i,v in enumerate(index):\n",
    "    s = str(best[i])\n",
    "    plt.text(best[i],v,s,horizontalalignment='left',verticalalignment='center')\n",
    "\n",
    "index = list(map(lambda x : x+width,index))\n",
    "plt.barh(index ,worst,width )\n",
    "\n",
    "for i,v in enumerate(index):\n",
    "    s = str(worst[i])\n",
    "    plt.text(worst[i],v,s,horizontalalignment='left',verticalalignment='center')\n",
    "\n",
    "index = list(map(lambda x : x+width,index))\n",
    "plt.barh(index,median,width)\n",
    "\n",
    "for i,v in enumerate(index):\n",
    "    s = str(median[i])\n",
    "    plt.text(median[i],v,s,horizontalalignment='left',verticalalignment='center')\n",
    "\n",
    "\n",
    "plt.yticks([0.3,1.3,2.3], label,fontsize = 10)\n",
    "plt.ylabel('Client',fontsize = 15)\n",
    "plt.xlabel('Time (ms)',fontsize = 15)\n",
    "plt.title('GET JSON',fontsize = 20)\n",
    "plt.legend(['best','worst','median'])\n",
    "plt.show()"
   ]
  },
  {
   "cell_type": "markdown",
   "metadata": {},
   "source": [
    "## POST JSON"
   ]
  },
  {
   "cell_type": "code",
   "execution_count": 7,
   "metadata": {},
   "outputs": [
    {
     "name": "stdout",
     "output_type": "stream",
     "text": [
      "['Language', 'best', 'worst', 'median']\n",
      "['Python 3', 98, 117, 100.0]\n",
      "['JS (node)', 302, 390, 313.5]\n",
      "['curl', 14, 21, 17.5]\n",
      "==========================\n",
      "Languages :  ['Python 3', 'JS (node)', 'curl']\n",
      "best :  [98.0, 302.0, 14.0]\n",
      "worst :  [117.0, 390.0, 21.0]\n",
      "median :  [100.0, 313.5, 17.5]\n"
     ]
    }
   ],
   "source": [
    "POST_json = json_data['POST']\n",
    "for data in POST_json:\n",
    "    print(data)\n",
    "print(\"==========================\")\n",
    "languages = []\n",
    "best = []\n",
    "worst = []\n",
    "median = []\n",
    "datas = []\n",
    "\n",
    "for data in POST_json:\n",
    "    languages.append(data[0])\n",
    "    best.append(data[1])\n",
    "    worst.append(data[2])\n",
    "    median.append(data[3])\n",
    "    \n",
    "languages = languages[1:]\n",
    "best = list(map(float,best[1:]))\n",
    "worst = list(map(float,worst[1:]))\n",
    "median = list(map(float,median[1:]))\n",
    "print(\"Languages : \", languages)\n",
    "print(\"best : \", best)\n",
    "print(\"worst : \", worst)\n",
    "print(\"median : \",median )"
   ]
  },
  {
   "cell_type": "code",
   "execution_count": 8,
   "metadata": {},
   "outputs": [
    {
     "data": {
      "image/png": "[encoded data removed]",
      "text/plain": [
       "<Figure size 432x288 with 1 Axes>"
      ]
     },
     "metadata": {
      "needs_background": "light"
     },
     "output_type": "display_data"
    }
   ],
   "source": [
    "label = languages\n",
    "d_len = len(languages)\n",
    "width = 0.3\n",
    "\n",
    "index = [0,1,2]\n",
    "plt.barh(index,best,width)\n",
    "\n",
    "for i,v in enumerate(index):\n",
    "    s = str(best[i])\n",
    "    plt.text(best[i],v,s,horizontalalignment='left',verticalalignment='center')\n",
    "\n",
    "index = list(map(lambda x : x+width,index))\n",
    "plt.barh(index ,worst,width )\n",
    "\n",
    "for i,v in enumerate(index):\n",
    "    s = str(worst[i])\n",
    "    plt.text(worst[i],v,s,horizontalalignment='left',verticalalignment='center')\n",
    "\n",
    "index = list(map(lambda x : x+width,index))\n",
    "plt.barh(index,median,width)\n",
    "\n",
    "for i,v in enumerate(index):\n",
    "    s = str(median[i])\n",
    "    plt.text(median[i],v,s,horizontalalignment='left',verticalalignment='center')\n",
    "\n",
    "\n",
    "plt.yticks([0.3,1.3,2.3], label,fontsize = 10)\n",
    "plt.ylabel('Cleint',fontsize = 15)\n",
    "plt.xlabel('Time (ms)',fontsize = 15)\n",
    "plt.title('POST JSON',fontsize = 20)\n",
    "plt.legend(['best','worst','median'])\n",
    "plt.show()"
   ]
  },
  {
   "cell_type": "markdown",
   "metadata": {},
   "source": [
    "## GET calc"
   ]
  },
  {
   "cell_type": "code",
   "execution_count": 9,
   "metadata": {},
   "outputs": [
    {
     "name": "stdout",
     "output_type": "stream",
     "text": [
      "['Language', 'best', 'worst', 'median']\n",
      "['Python 3', 250, 273, 251.0]\n",
      "['JS (node)', 424, 433, 428.0]\n",
      "['curl', 143, 145, 143.0]\n",
      "==========================\n",
      "Languages :  ['Python 3', 'JS (node)', 'curl']\n",
      "best :  [124.0, 297.0, 12.0]\n",
      "worst :  [146.0, 302.0, 21.0]\n",
      "median :  [127.0, 299.5, 14.5]\n"
     ]
    }
   ],
   "source": [
    "GET_calc = calc_data['GET']\n",
    "for data in GET_calc:\n",
    "    print(data)\n",
    "print(\"==========================\")\n",
    "languages = []\n",
    "best = []\n",
    "worst = []\n",
    "median = []\n",
    "datas = []\n",
    "\n",
    "for data in GET_json:\n",
    "    languages.append(data[0])\n",
    "    best.append(data[1])\n",
    "    worst.append(data[2])\n",
    "    median.append(data[3])\n",
    "    \n",
    "languages = languages[1:]\n",
    "best = list(map(float,best[1:]))\n",
    "worst = list(map(float,worst[1:]))\n",
    "median = list(map(float,median[1:]))\n",
    "print(\"Languages : \", languages)\n",
    "print(\"best : \", best)\n",
    "print(\"worst : \", worst)\n",
    "print(\"median : \",median )"
   ]
  },
  {
   "cell_type": "code",
   "execution_count": 10,
   "metadata": {},
   "outputs": [
    {
     "data": {
      "image/png": "[encoded data removed]",
      "text/plain": [
       "<Figure size 432x288 with 1 Axes>"
      ]
     },
     "metadata": {
      "needs_background": "light"
     },
     "output_type": "display_data"
    }
   ],
   "source": [
    "label = languages\n",
    "d_len = len(languages)\n",
    "width = 0.3\n",
    "\n",
    "index = [0,1,2]\n",
    "plt.barh(index,best,width)\n",
    "\n",
    "for i,v in enumerate(index):\n",
    "    s = str(best[i])\n",
    "    plt.text(best[i],v,s,horizontalalignment='left',verticalalignment='center')\n",
    "\n",
    "index = list(map(lambda x : x+width,index))\n",
    "plt.barh(index ,worst,width )\n",
    "\n",
    "for i,v in enumerate(index):\n",
    "    s = str(worst[i])\n",
    "    plt.text(worst[i],v,s,horizontalalignment='left',verticalalignment='center')\n",
    "\n",
    "index = list(map(lambda x : x+width,index))\n",
    "plt.barh(index,median,width)\n",
    "\n",
    "for i,v in enumerate(index):\n",
    "    s = str(median[i])\n",
    "    plt.text(median[i],v,s,horizontalalignment='left',verticalalignment='center')\n",
    "\n",
    "\n",
    "plt.yticks([0.3,1.3,2.3], label,fontsize = 10)\n",
    "plt.ylabel('Client',fontsize = 15)\n",
    "plt.xlabel('Time (ms)',fontsize = 15)\n",
    "plt.title('GET Calc',fontsize = 20)\n",
    "plt.legend(['best','worst','median'])\n",
    "plt.show()"
   ]
  },
  {
   "cell_type": "markdown",
   "metadata": {},
   "source": [
    "## GET html"
   ]
  },
  {
   "cell_type": "code",
   "execution_count": 11,
   "metadata": {},
   "outputs": [
    {
     "name": "stdout",
     "output_type": "stream",
     "text": [
      "['Language', 'best', 'worst', 'median']\n",
      "['Python 3', 94, 112, 95.0]\n",
      "['JS (node)', 299, 305, 302.0]\n",
      "['curl', 11, 14, 13.0]\n",
      "==========================\n",
      "Languages :  ['Python 3', 'JS (node)', 'curl']\n",
      "best :  [94.0, 299.0, 11.0]\n",
      "worst :  [112.0, 305.0, 14.0]\n",
      "median :  [95.0, 302.0, 13.0]\n"
     ]
    }
   ],
   "source": [
    "GET_html = html_data['GET']\n",
    "for data in GET_html:\n",
    "    print(data)\n",
    "print(\"==========================\")\n",
    "languages = []\n",
    "best = []\n",
    "worst = []\n",
    "median = []\n",
    "datas = []\n",
    "\n",
    "for data in GET_html:\n",
    "    languages.append(data[0])\n",
    "    best.append(data[1])\n",
    "    worst.append(data[2])\n",
    "    median.append(data[3])\n",
    "    \n",
    "languages = languages[1:]\n",
    "best = list(map(float,best[1:]))\n",
    "worst = list(map(float,worst[1:]))\n",
    "median = list(map(float,median[1:]))\n",
    "print(\"Languages : \", languages)\n",
    "print(\"best : \", best)\n",
    "print(\"worst : \", worst)\n",
    "print(\"median : \",median )"
   ]
  },
  {
   "cell_type": "code",
   "execution_count": 12,
   "metadata": {},
   "outputs": [
    {
     "data": {
      "image/png": "[encoded data removed]",
      "text/plain": [
       "<Figure size 432x288 with 1 Axes>"
      ]
     },
     "metadata": {
      "needs_background": "light"
     },
     "output_type": "display_data"
    }
   ],
   "source": [
    "label = languages\n",
    "d_len = len(languages)\n",
    "width = 0.3\n",
    "\n",
    "index = [0,1,2]\n",
    "plt.barh(index,best,width)\n",
    "\n",
    "for i,v in enumerate(index):\n",
    "    s = str(best[i])\n",
    "    plt.text(best[i],v,s,horizontalalignment='left',verticalalignment='center')\n",
    "\n",
    "index = list(map(lambda x : x+width,index))\n",
    "plt.barh(index ,worst,width )\n",
    "\n",
    "for i,v in enumerate(index):\n",
    "    s = str(worst[i])\n",
    "    plt.text(worst[i],v,s,horizontalalignment='left',verticalalignment='center')\n",
    "\n",
    "index = list(map(lambda x : x+width,index))\n",
    "plt.barh(index,median,width)\n",
    "\n",
    "for i,v in enumerate(index):\n",
    "    s = str(median[i])\n",
    "    plt.text(median[i],v,s,horizontalalignment='left',verticalalignment='center')\n",
    "\n",
    "\n",
    "plt.yticks([0.3,1.3,2.3], label,fontsize = 10)\n",
    "plt.ylabel('Cleint',fontsize = 15)\n",
    "plt.xlabel('Time (ms)',fontsize = 15)\n",
    "plt.title('GET html',fontsize = 20)\n",
    "plt.legend(['best','worst','median'])\n",
    "plt.show()"
   ]
  },
  {
   "cell_type": "code",
   "execution_count": null,
   "metadata": {},
   "outputs": [],
   "source": []
  }
 ],
 "metadata": {
  "kernelspec": {
   "display_name": "Python 3",
   "language": "python",
   "name": "python3"
  },
  "language_info": {
   "codemirror_mode": {
    "name": "ipython",
    "version": 3
   },
   "file_extension": ".py",
   "mimetype": "text/x-python",
   "name": "python",
   "nbconvert_exporter": "python",
   "pygments_lexer": "ipython3",
   "version": "3.6.9"
  }
 },
 "nbformat": 4,
 "nbformat_minor": 4
}
