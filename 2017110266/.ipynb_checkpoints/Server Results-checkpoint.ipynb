{
 "cells": [
  {
   "cell_type": "code",
   "execution_count": null,
   "metadata": {},
   "outputs": [],
   "source": [
    "import os\n",
    "import json\n",
    "import statistics\n",
    "from matplotlib import pyplot as plt"
   ]
  },
  {
   "cell_type": "code",
   "execution_count": null,
   "metadata": {},
   "outputs": [],
   "source": [
    "os.chdir('./server/Linux')\n",
    "print(os.getcwd())"
   ]
  },
  {
   "cell_type": "code",
   "execution_count": null,
   "metadata": {},
   "outputs": [],
   "source": [
    "with open('ServerSpeedResult.json') as file:\n",
    "    data = json.load(file)\n",
    "py_data = data['ServerLanguage']['python']\n",
    "js_data = data['ServerLanguage']['javascript']\n",
    "\n",
    "languages = ['Python 3', 'JS (node)']\n",
    "################### JSON GET ########################\n",
    "json_get_py = py_data['json']['GET']\n",
    "json_get_js = js_data['json']['GET']\n",
    "\n",
    "json_get_best = list(map(lambda x : float(format(x,'.2f')),[min(json_get_py), min(json_get_js)]))\n",
    "json_get_worst = list(map(lambda x : float(format(x,'.2f')),[max(json_get_py), max(json_get_js)]))\n",
    "json_get_median = list(map(lambda x : float(format(x,'.2f')),[statistics.median(json_get_py), statistics.median(json_get_js)]))\n",
    "#####################################################\n",
    "################## JSON POST ########################\n",
    "json_post_py = py_data['json']['POST']\n",
    "json_post_js = js_data['json']['POST']\n",
    "\n",
    "json_post_best = list(map(lambda x : float(format(x,'.2f')),[min(json_post_py), min(json_post_js)]))\n",
    "json_post_worst = list(map(lambda x : float(format(x,'.2f')),[max(json_post_py), max(json_post_js)]))\n",
    "json_post_median = list(map(lambda x : float(format(x,'.2f')),[statistics.median(json_post_py), statistics.median(json_post_js)]))\n",
    "#####################################################\n",
    "################## Calc GET #########################\n",
    "calc_get_py = py_data['calc']['GET']\n",
    "calc_get_js = js_data['calc']['GET']\n",
    "\n",
    "calc_get_best = list(map(lambda x : float(format(x,'.2f')),[min(calc_get_py), min(calc_get_js)]))\n",
    "calc_get_worst = list(map(lambda x : float(format(x,'.2f')),[max(calc_get_py), max(calc_get_js)]))\n",
    "calc_get_median = list(map(lambda x : float(format(x,'.2f')),[statistics.median(calc_get_py), statistics.median(calc_get_js)]))\n",
    "#####################################################\n",
    "################## Html GET #########################\n",
    "html_get_py = py_data['html']['GET']\n",
    "html_get_js = js_data['html']['GET']\n",
    "\n",
    "html_get_best = list(map(lambda x : float(format(x,'.2f')),[min(html_get_py), min(html_get_js)]))\n",
    "html_get_worst = list(map(lambda x : float(format(x,'.2f')),[max(html_get_py), max(html_get_js)]))\n",
    "html_get_median = list(map(lambda x : float(format(x,'.2f')),[statistics.median(html_get_py), statistics.median(html_get_js)]))\n",
    "#####################################################"
   ]
  },
  {
   "cell_type": "code",
   "execution_count": null,
   "metadata": {},
   "outputs": [],
   "source": [
    "fig = plt.figure()\n",
    "fig.set_figheight(10)\n",
    "fig.set_figwidth(15)"
   ]
  },
  {
   "cell_type": "code",
   "execution_count": null,
   "metadata": {},
   "outputs": [],
   "source": [
    "def makePlot(ax,best,worst,median,title):\n",
    "    width = 0.3\n",
    "\n",
    "    index = [0,1]\n",
    "    ax.barh(index, best, width)\n",
    "\n",
    "    for i,v in enumerate(index):\n",
    "        s = str(best[i])\n",
    "        ax.text(best[i],v,s,horizontalalignment='left',verticalalignment='center')\n",
    "\n",
    "    index = list(map(lambda x: x+width,index))\n",
    "    ax.barh(index,worst,width)\n",
    "\n",
    "    for i,v in enumerate(index):\n",
    "        s = str(worst[i])\n",
    "        ax.text(worst[i],v,s,horizontalalignment='left',verticalalignment='center')\n",
    "\n",
    "    index = list(map(lambda x: x+width, index))\n",
    "    ax.barh(index,median,width)\n",
    "\n",
    "    for i,v in enumerate(index):\n",
    "        s = str(median[i])\n",
    "        ax.text(median[i],v,s,horizontalalignment='left',verticalalignment='center')\n",
    "\n",
    "\n",
    "    ax.set_yticks([0.2,1.3])\n",
    "    ax.set_yticklabels(languages)\n",
    "    ax.set_ylabel('Server', fontsize = 15)\n",
    "    ax.set_xlabel('Time(ms)',fontsize = 15)\n",
    "    ax.set_title(title,fontsize = 20)"
   ]
  },
  {
   "cell_type": "code",
   "execution_count": null,
   "metadata": {},
   "outputs": [],
   "source": [
    "ax1 = fig.add_subplot(2,2,1)\n",
    "ax2 = fig.add_subplot(2,2,2)\n",
    "ax3 = fig.add_subplot(2,2,3)\n",
    "ax4 = fig.add_subplot(2,2,4)\n",
    "makePlot(ax1,json_get_best,json_get_worst,json_get_median,'GET JSON')\n",
    "makePlot(ax2,json_post_best,json_post_worst,json_post_median,'POST JSON')\n",
    "makePlot(ax3,calc_get_best,calc_get_worst,calc_get_median,'GET Calc')\n",
    "makePlot(ax4,html_get_best,html_get_worst,html_get_median,'GET html')"
   ]
  },
  {
   "cell_type": "code",
   "execution_count": null,
   "metadata": {},
   "outputs": [],
   "source": [
    "fig.legend(['best','worst','median'])\n",
    "fig.tight_layout()\n",
    "fig"
   ]
  },
  {
   "cell_type": "code",
   "execution_count": null,
   "metadata": {},
   "outputs": [],
   "source": []
  }
 ],
 "metadata": {
  "kernelspec": {
   "display_name": "Python 3",
   "language": "python",
   "name": "python3"
  },
  "language_info": {
   "codemirror_mode": {
    "name": "ipython",
    "version": 3
   },
   "file_extension": ".py",
   "mimetype": "text/x-python",
   "name": "python",
   "nbconvert_exporter": "python",
   "pygments_lexer": "ipython3",
   "version": "3.6.9"
  }
 },
 "nbformat": 4,
 "nbformat_minor": 4
}
