{
 "cells": [
  {
   "cell_type": "code",
   "execution_count": 1,
   "metadata": {},
   "outputs": [],
   "source": [
    "import os\n",
    "import csv\n",
    "from IPython.display import Image"
   ]
  },
  {
   "cell_type": "code",
   "execution_count": 2,
   "metadata": {},
   "outputs": [
    {
     "name": "stdout",
     "output_type": "stream",
     "text": [
      "/home/jsh/GitHub/Server-Performance-Analysis/jmeter/cpu&memory/get-calc\n"
     ]
    }
   ],
   "source": [
    "mypath = 'get-calc'\n",
    "os.chdir('./jmeter/cpu&memory/'+mypath)\n",
    "print(os.getcwd())"
   ]
  },
  {
   "cell_type": "code",
   "execution_count": 17,
   "metadata": {},
   "outputs": [],
   "source": [
    "py_cpu = []\n",
    "js_cpu = []\n",
    "go_cpu = []\n",
    "\n",
    "py_mem = []\n",
    "js_mem = []\n",
    "go_mem = []\n",
    "\n",
    "with open('go-cpu.csv') as f:\n",
    "    myreader = csv.reader(f)\n",
    "    for row in myreader:\n",
    "        if row[2] != 'label':\n",
    "            row[2] = 'Go CPU'\n",
    "        go_cpu.append(row)\n",
    "\n",
    "with open('go-memory.csv') as f:\n",
    "    myreader = csv.reader(f)\n",
    "    for row in myreader:\n",
    "        if row[2] != 'label':\n",
    "            row[2] = 'Go Memory'\n",
    "        go_mem.append(row)\n",
    "            \n",
    "with open('javascript-cpu.csv') as f:\n",
    "    myreader = csv.reader(f)\n",
    "    for row in myreader:\n",
    "        if row[2] != 'label':\n",
    "            row[2] = 'Javascript CPU'\n",
    "        js_cpu.append(row)\n",
    "\n",
    "with open('javascript-memory.csv') as f:\n",
    "    myreader = csv.reader(f)\n",
    "    for row in myreader:\n",
    "        if row[2] != 'label':\n",
    "            row[2] = 'Javascript Memory'\n",
    "        js_mem.append(row)\n",
    "\n",
    "with open('python-cpu.csv') as f:\n",
    "    myreader = csv.reader(f)\n",
    "    for row in myreader:\n",
    "        if row[2] != 'label':\n",
    "            row[2] = 'Python CPU'\n",
    "        py_cpu.append(row)\n",
    "        \n",
    "with open('python-memory.csv') as f:\n",
    "    myreader = csv.reader(f)\n",
    "    for row in myreader:\n",
    "        if row[2] != 'label':\n",
    "            row[2] = 'Python Memory'\n",
    "        py_mem.append(row)\n",
    "\n",
    "        \n",
    "cpu_time_py =  int(py_cpu[1][0]) - int(go_cpu[1][0])\n",
    "cpu_time_js =  int(js_cpu[1][0]) - int(go_cpu[1][0])\n",
    "        \n",
    "for i in range(1,len(py_cpu)):\n",
    "    py_cpu[i][0] = str(int(py_cpu[i][0]) - cpu_time_py)\n",
    "\n",
    "for i in range(1,len(js_cpu)):\n",
    "    js_cpu[i][0] = str(int(js_cpu[i][0]) - cpu_time_js)\n",
    "    \n",
    "mem_time_py = int(py_mem[1][0]) - int(go_mem[1][0])\n",
    "mem_time_js = int(js_mem[1][0]) - int(go_mem[1][0])\n",
    "\n",
    "for i in range(1, len(py_mem)):\n",
    "    py_mem[i][0] = str(int(py_mem[i][0]) - mem_time_py)\n",
    "    \n",
    "for i in range(1, len(js_mem)):\n",
    "    js_mem[i][0] = str(int(js_mem[i][0]) - mem_time_js)"
   ]
  },
  {
   "cell_type": "code",
   "execution_count": 18,
   "metadata": {},
   "outputs": [],
   "source": [
    "with open('cpu-usage.csv','w') as f:\n",
    "    mywriter = csv.writer(f)\n",
    "    for row in py_cpu:\n",
    "        mywriter.writerow(row)\n",
    "    for row in js_cpu:\n",
    "        if row[0] != 'timeStamp':\n",
    "            mywriter.writerow(row)\n",
    "    for row in go_cpu:\n",
    "        if row[0] != 'timeStamp':\n",
    "            mywriter.writerow(row)\n",
    "\n",
    "with open('memory-usage.csv', 'w') as f:\n",
    "    mywriter = csv.writer(f)\n",
    "    for row in py_mem:\n",
    "        mywriter.writerow(row)\n",
    "    for row in js_mem:\n",
    "        if row[0] != 'timeStamp':\n",
    "            mywriter.writerow(row)\n",
    "    for row in go_mem:\n",
    "        if row[0] != 'timeStamp':\n",
    "            mywriter.writerow(row)"
   ]
  }
 ],
 "metadata": {
  "kernelspec": {
   "display_name": "Python 3",
   "language": "python",
   "name": "python3"
  },
  "language_info": {
   "codemirror_mode": {
    "name": "ipython",
    "version": 3
   },
   "file_extension": ".py",
   "mimetype": "text/x-python",
   "name": "python",
   "nbconvert_exporter": "python",
   "pygments_lexer": "ipython3",
   "version": "3.6.9"
  }
 },
 "nbformat": 4,
 "nbformat_minor": 4
}
